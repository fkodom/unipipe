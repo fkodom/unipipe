{
 "cells": [
  {
   "cell_type": "code",
   "execution_count": 12,
   "metadata": {},
   "outputs": [],
   "source": [
    "import importlib\n",
    "\n",
    "is_colab = importlib.util.find_spec(\"google.colab\") is not None\n",
    "if is_colab:\n",
    "    # Install 'unipipe' latest on GitHub.\n",
    "    !pip install \"unipipe[all] @ git+https://git@github.com/fkodom/unipipe.git\""
   ]
  },
  {
   "cell_type": "code",
   "execution_count": 13,
   "metadata": {},
   "outputs": [],
   "source": [
    "from unipipe import dsl\n",
    "\n",
    "@dsl.component\n",
    "def hello(name: str) -> str:\n",
    "    return f\"Hello, {name}!\"\n",
    "\n",
    "@dsl.pipeline\n",
    "def pipeline():\n",
    "    hello(name=\"world\")"
   ]
  },
  {
   "cell_type": "code",
   "execution_count": 14,
   "metadata": {},
   "outputs": [
    {
     "name": "stdout",
     "output_type": "stream",
     "text": [
      "Select a pipeline executor:\n"
     ]
    },
    {
     "data": {
      "application/vnd.jupyter.widget-view+json": {
       "model_id": "fdc7921695484360b8b182b62d047358",
       "version_major": 2,
       "version_minor": 0
      },
      "text/plain": [
       "interactive(children=(Dropdown(description='executor', options=('python', 'vertex'), value='python'), Output()…"
      ]
     },
     "metadata": {},
     "output_type": "display_data"
    }
   ],
   "source": [
    "from ipywidgets import interactive\n",
    "from IPython.display import display\n",
    "\n",
    "print(\"Select a pipeline executor:\")\n",
    "executor = interactive(lambda executor: executor, executor=[\"python\", \"vertex\"])\n",
    "display(executor)"
   ]
  },
  {
   "cell_type": "code",
   "execution_count": 15,
   "metadata": {},
   "outputs": [
    {
     "name": "stderr",
     "output_type": "stream",
     "text": [
      "INFO:root:[hello-b9fd563c] - Hello, world!\n"
     ]
    }
   ],
   "source": [
    "import unipipe\n",
    "\n",
    "# If we're in a Colab notebook, we need to authenticate with Google before\n",
    "# running any pipelines through Vertex AI.\n",
    "if is_colab and executor.result == \"vertex\":\n",
    "    from google.colab import auth\n",
    "    auth.authenticate_user()\n",
    "\n",
    "unipipe.run(\n",
    "    executor=executor.result,\n",
    "    pipeline=pipeline(),\n",
    ")"
   ]
  },
  {
   "cell_type": "code",
   "execution_count": null,
   "metadata": {},
   "outputs": [],
   "source": []
  }
 ],
 "metadata": {
  "kernelspec": {
   "display_name": "Python 3 (ipykernel)",
   "language": "python",
   "name": "python3"
  },
  "language_info": {
   "codemirror_mode": {
    "name": "ipython",
    "version": 3
   },
   "file_extension": ".py",
   "mimetype": "text/x-python",
   "name": "python",
   "nbconvert_exporter": "python",
   "pygments_lexer": "ipython3",
   "version": "3.9.13"
  },
  "vscode": {
   "interpreter": {
    "hash": "1d5c43ef3b959073f7e72f785fac6ad20935c53bbae2ad6c47e0847b14c720fd"
   }
  }
 },
 "nbformat": 4,
 "nbformat_minor": 2
}
